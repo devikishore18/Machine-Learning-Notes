{
 "cells": [
  {
   "cell_type": "markdown",
   "id": "dc81d73d-784d-4306-b743-36b92acf2720",
   "metadata": {},
   "source": [
    "# ✂️ Splitting Data into Train/Test Sets in Machine Learning\n",
    "\n",
    "## 🎯 What is Train/Test Split?\n",
    "\n",
    "Splitting the dataset is a critical step in machine learning to evaluate how well your model generalizes to **unseen data**.\n",
    "\n",
    "- The **Training Set** is used to train the model.\n",
    "- The **Test Set** is used to evaluate model performance on unseen data.\n",
    "\n",
    "---\n",
    "\n",
    "## 🧠 Why is it Important?\n",
    "\n",
    "If you train and test your model on the same data:\n",
    "- The model may **memorize** the data (overfitting).\n",
    "- You get an **over-optimistic** accuracy score.\n",
    "- You cannot evaluate how well your model will perform in production.\n",
    "\n",
    "To prevent this, we split the data.\n",
    "\n",
    "---\n",
    "\n",
    "## 🔢 Common Ratios\n",
    "\n",
    "| Split        | Purpose         | Typical Proportion |\n",
    "|--------------|------------------|---------------------|\n",
    "| Training Set | Model training   | 70–80%              |\n",
    "| Test Set     | Final evaluation | 20–30%              |\n",
    "\n",
    "Sometimes we also use a **Validation Set** for hyperparameter tuning.\n",
    "\n",
    "---\n",
    "\n",
    "## 🧮 Mathematical Notation\n",
    "\n",
    "Let the dataset be:\n",
    "\\[\n",
    "D = \\{(x_1, y_1), (x_2, y_2), ..., (x_n, y_n)\\}\n",
    "\\]\n",
    "\n",
    "Split into:\n",
    "- Training set \\( D_{train} \\)\n",
    "- Test set \\( D_{test} \\)\n",
    "\n",
    "\\[\n",
    "D_{train} \\cup D_{test} = D,\\quad D_{train} \\cap D_{test} = \\emptyset\n",
    "\\]\n",
    "\n",
    "---\n",
    "\n",
    "## 🛠️ How to Split the Data (Python)\n",
    "\n",
    "```python\n",
    "from sklearn.model_selection import train_test_split\n",
    "\n",
    "X = df.drop('target', axis=1)  # Features\n",
    "y = df['target']               # Target\n",
    "\n",
    "# Split into 80% train and 20% test\n",
    "X_train, X_test, y_train, y_test = train_test_split(\n",
    "    X, y, test_size=0.2, random_state=42\n",
    ")\n"
   ]
  },
  {
   "cell_type": "markdown",
   "id": "26c85217-619c-4f32-8326-e697d01a0ff9",
   "metadata": {},
   "source": [
    "### Parameters:\n",
    "- test_size=0.2: 20% for test, 80% for train\n",
    "- random_state: ensures reproducibility\n",
    "- shuffle=True: data is shuffled before splitting (default)\n",
    "\n"
   ]
  },
  {
   "cell_type": "markdown",
   "id": "8fa15a27-ac75-4b10-89ac-1168a6056050",
   "metadata": {},
   "source": [
    "## 🧪 With Stratification (for Classification)\n",
    "Use stratified split to maintain class balance in both train and test sets.\n",
    "\n",
    "```python\n",
    "X_train, X_test, y_train, y_test = train_test_split(\n",
    "    X, y, test_size=0.2, stratify=y, random_state=42\n",
    ")\n",
    "```"
   ]
  },
  {
   "cell_type": "markdown",
   "id": "b09690aa-bf65-4ebb-ae80-44d6dc2dd43f",
   "metadata": {},
   "source": [
    "## 🧪 Train/Validation/Test Split (Optional)\n",
    "```python\n",
    "# First split into temp (80%) and test (20%)\n",
    "X_temp, X_test, y_temp, y_test = train_test_split(\n",
    "    X, y, test_size=0.2, random_state=42\n",
    ")\n",
    "\n",
    "# Split temp into train (60%) and validation (20%)\n",
    "X_train, X_val, y_train, y_val = train_test_split(\n",
    "    X_temp, y_temp, test_size=0.25, random_state=42\n",
    ")\n",
    "```"
   ]
  },
  {
   "cell_type": "markdown",
   "id": "143dbf6f-0485-4f9d-989f-26a062bf3013",
   "metadata": {},
   "source": [
    "✅ Now:\n",
    "\n",
    "- 60% Training\n",
    "- 20% Validation\n",
    "- 20% Test"
   ]
  },
  {
   "cell_type": "markdown",
   "id": "dd071ab6-54d9-4829-a280-586ded787cd3",
   "metadata": {},
   "source": [
    "## 📌 Best Practices\n",
    "- Always split before preprocessing (scaling, encoding) to avoid data leakage.\n",
    "- Use stratify for imbalanced classification problems.\n",
    "- Keep a fixed random_state to make results reproducible.\n",
    "- Don’t peek at the test set until final evaluation.\n",
    "\n"
   ]
  },
  {
   "cell_type": "markdown",
   "id": "15e0a7d6-c587-405a-b505-ef03c0cb17b3",
   "metadata": {},
   "source": [
    "| Set        | Usage                                 |\n",
    "| ---------- | ------------------------------------- |\n",
    "| Training   | Fit the model                         |\n",
    "| Validation | Tune hyperparameters (optional)       |\n",
    "| Test       | Final evaluation of model performance |\n"
   ]
  },
  {
   "cell_type": "code",
   "execution_count": null,
   "id": "b3098a85-41ae-48ff-aaaf-0593a645846f",
   "metadata": {},
   "outputs": [],
   "source": []
  }
 ],
 "metadata": {
  "kernelspec": {
   "display_name": "Python 3 (ipykernel)",
   "language": "python",
   "name": "python3"
  },
  "language_info": {
   "codemirror_mode": {
    "name": "ipython",
    "version": 3
   },
   "file_extension": ".py",
   "mimetype": "text/x-python",
   "name": "python",
   "nbconvert_exporter": "python",
   "pygments_lexer": "ipython3",
   "version": "3.13.1"
  }
 },
 "nbformat": 4,
 "nbformat_minor": 5
}
