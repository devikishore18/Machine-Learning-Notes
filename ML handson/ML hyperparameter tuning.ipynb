{
 "cells": [
  {
   "cell_type": "markdown",
   "id": "59a2edad-f993-4b4b-a7f7-39054a8a7905",
   "metadata": {},
   "source": [
    "# Hyperparameter tuning\n",
    "Improve model performance by tuning the model's hyperparameters (which are set manually, not learned during training).\n"
   ]
  },
  {
   "cell_type": "markdown",
   "id": "d3db4343-dff2-41b7-88dd-8fd4db3a2b8f",
   "metadata": {},
   "source": [
    "\t\n",
    "| Model |Important Hyperparameters|\n",
    "| Logistic Regression|\tC, penalty, solver|\n",
    "|SVM|\tC, kernel, gamma|\n",
    "| Decision Tree\t|max_depth, min_samples_split, criterion|\n",
    "|Random Forest\t|n_estimators, max_depth, max_features|\n",
    "|XGBoost/LightGBM|\tlearning_rate, n_estimators, max_depth, subsample|\n",
    "|Neural Networks\t|learning_rate, epochs, batch_size, optimizera|"
   ]
  },
  {
   "cell_type": "markdown",
   "id": "3d53ea77-72e8-4270-a58b-18f6d4050657",
   "metadata": {},
   "source": [
    "## GridSearchCV\n",
    "GridSearchCV is a technique in scikit-learn used to automatically tune hyperparameters of a model by trying every possible combination of specified parameter values and finding the best one using cross-validation.\n"
   ]
  },
  {
   "cell_type": "markdown",
   "id": "95cc7323-3250-4557-9cff-14f0c25c7550",
   "metadata": {},
   "source": [
    "- L1 and L2 Regularisation\n",
    "- Lasso Regularisation ----> L1\n",
    "- Ridge Regularisation ---->L2\n",
    "- To overcome overfitting issue and improve generalisation"
   ]
  },
  {
   "cell_type": "code",
   "execution_count": 1,
   "id": "6f1eb529-c06c-4f52-9427-9c1bb2f0f818",
   "metadata": {},
   "outputs": [],
   "source": [
    "from sklearn.linear_model import LogisticRegression\n",
    "from sklearn.datasets import make_classification\n",
    "from sklearn.model_selection import train_test_split\n",
    "# Create data\n",
    "X, y = make_classification(n_samples=1000, n_features=20, random_state=42)\n",
    "X_train, X_test, y_train, y_test = train_test_split(X, y, test_size=0.3)\n"
   ]
  },
  {
   "cell_type": "code",
   "execution_count": 2,
   "id": "a2c82cd1-6cd0-4e70-9cfb-6575896cd15c",
   "metadata": {},
   "outputs": [
    {
     "name": "stdout",
     "output_type": "stream",
     "text": [
      "L1 Coefficients: [[ 0.09434534  0.          0.10437889  0.13519262  0.11349544  2.15818672\n",
      "  -0.09430364  0.03806511  0.04154388 -0.11320034  0.13767538  0.39521229\n",
      "   0.04653339  0.16441933 -0.27827092  0.02004658  0.07263627 -0.1316177\n",
      "   0.          0.0418026 ]]\n"
     ]
    }
   ],
   "source": [
    " # L1 (Lasso)  Shrinks some weights to zero, helps in feature selection\n",
    "#L2 Shrinks all weights smoothly, helps in stabilizing the model\n",
    "\n",
    "model_l1 = LogisticRegression(penalty='l1', solver='liblinear', C=1.0)\n",
    "model_l1.fit(X_train, y_train)\n",
    "print(\"L1 Coefficients:\", model_l1.coef_)\n"
   ]
  },
  {
   "cell_type": "code",
   "execution_count": 3,
   "id": "2bbe8ec2-1c8c-410a-9994-679c0769ccc5",
   "metadata": {},
   "outputs": [
    {
     "name": "stdout",
     "output_type": "stream",
     "text": [
      "L2 Coefficients: [[ 0.10492105 -0.44440021  0.11610463  0.14766565  0.12789324  1.5780561\n",
      "  -0.10544493  0.0530202   0.05791265 -0.12714095  0.15180113  0.40803199\n",
      "   0.06240369  0.17862377 -0.60274231  0.03664257  0.08264481 -0.14240363\n",
      "  -0.72754034  0.05513709]]\n"
     ]
    }
   ],
   "source": [
    "# L2 (Ridge)\n",
    "model_l2 = LogisticRegression(penalty='l2', solver='liblinear', C=1.0)\n",
    "model_l2.fit(X_train, y_train)\n",
    "print(\"L2 Coefficients:\", model_l2.coef_)"
   ]
  },
  {
   "cell_type": "raw",
   "id": "a4ac570f-ab5d-4576-a31f-4cc27de8049a",
   "metadata": {},
   "source": [
    "solver='liblinear'\n",
    "Meaning: Choose the optimization algorithm to solve the logistic regression.\n",
    "liblinear is:\n",
    "Good for small to medium datasets\n",
    "Supports both 'l1' and 'l2' penalties\n",
    "Other solvers:\n",
    "'saga': Efficient for large datasets; supports L1, L2, and elastic net\n",
    "'lbfgs': Good for L2; faster for multiclass\n",
    "'newton-cg': Also good for L2 and multiclass\n"
   ]
  },
  {
   "cell_type": "code",
   "execution_count": 4,
   "id": "d7ca59a4-6feb-440f-9a5b-58973899c94a",
   "metadata": {},
   "outputs": [],
   "source": [
    "y_pred_l1=model_l1.predict(X_test)"
   ]
  },
  {
   "cell_type": "code",
   "execution_count": 6,
   "id": "95b7a7d9-a671-46ac-9142-68ccccb9385c",
   "metadata": {},
   "outputs": [
    {
     "data": {
      "text/plain": [
       "0.8533333333333334"
      ]
     },
     "execution_count": 6,
     "metadata": {},
     "output_type": "execute_result"
    }
   ],
   "source": [
    "from sklearn.metrics import accuracy_score\n",
    "accuracy=accuracy_score(y_test, y_pred_l1)\n",
    "accuracy"
   ]
  },
  {
   "cell_type": "code",
   "execution_count": 7,
   "id": "c470ced5-c683-4a4e-9e7d-8d4281d63c1e",
   "metadata": {},
   "outputs": [],
   "source": [
    "y_pred_l2=model_l2.predict(X_test)"
   ]
  },
  {
   "cell_type": "code",
   "execution_count": 8,
   "id": "29003d1a-addb-481e-b477-2f4456b6befa",
   "metadata": {},
   "outputs": [
    {
     "data": {
      "text/plain": [
       "0.85"
      ]
     },
     "execution_count": 8,
     "metadata": {},
     "output_type": "execute_result"
    }
   ],
   "source": [
    "accuracy=accuracy_score(y_test, y_pred_l2)\n",
    "accuracy"
   ]
  },
  {
   "cell_type": "code",
   "execution_count": null,
   "id": "5837c107-3f3b-4f80-8df1-2059392e2641",
   "metadata": {},
   "outputs": [],
   "source": []
  }
 ],
 "metadata": {
  "kernelspec": {
   "display_name": "Python 3 (ipykernel)",
   "language": "python",
   "name": "python3"
  },
  "language_info": {
   "codemirror_mode": {
    "name": "ipython",
    "version": 3
   },
   "file_extension": ".py",
   "mimetype": "text/x-python",
   "name": "python",
   "nbconvert_exporter": "python",
   "pygments_lexer": "ipython3",
   "version": "3.13.1"
  }
 },
 "nbformat": 4,
 "nbformat_minor": 5
}
