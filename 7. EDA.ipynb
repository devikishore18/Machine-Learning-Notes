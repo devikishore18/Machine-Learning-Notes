{
 "cells": [
  {
   "cell_type": "markdown",
   "id": "8a24ba50-4945-4928-ae20-0335db32a8d5",
   "metadata": {},
   "source": [
    "# 📊 Exploratory Data Analysis (EDA) in Machine Learning\n",
    "\n",
    "**Exploratory Data Analysis (EDA)** is the process of analyzing datasets to summarize their main characteristics, often using visual methods. It helps in understanding the structure, patterns, and relationships within the data before applying machine learning models.\n",
    "\n",
    "---\n",
    "\n",
    "## 🎯 Objectives of EDA\n",
    "\n",
    "- Understand the **distribution** of features\n",
    "- Identify **missing values**, **outliers**, and **duplicates**\n",
    "- Analyze **relationships** between variables\n",
    "- Detect **data imbalances**\n",
    "- Generate **hypotheses** for further analysis\n",
    "\n",
    "---\n",
    "\n",
    "## 📦 1. Load and Inspect the Dataset\n",
    "\n",
    "```python\n",
    "import pandas as pd\n",
    "\n",
    "df = pd.read_csv('your_dataset.csv')\n",
    "df.head()         # View top rows\n",
    "df.info()         # Summary: data types and missing values\n",
    "df.describe()     # Statistical summary\n",
    "```\n",
    "---"
   ]
  },
  {
   "cell_type": "markdown",
   "id": "f137c058-ccb8-406a-b2a9-7624daf3fffc",
   "metadata": {},
   "source": [
    "## 🔍 2. Understand Data Types\n",
    "Data type helps in choosing the right analysis or visualization.\n",
    "\n",
    "\n",
    "- Numerical (continuous/discrete)(e.g., age, salary)\n",
    "- Categorical (nominal/ordinal) (e.g., gender, rating)\n",
    "- Datetime (timestamp/time series)\n",
    "```\n",
    "df.dtypes\n",
    "df.select_dtypes(include='object').columns  # Categorical\n",
    "df.select_dtypes(include='number').columns  # Numerical\n",
    "```\n",
    "---"
   ]
  },
  {
   "cell_type": "markdown",
   "id": "7dad0a80-d2e3-46a0-865d-717b05cd8e7e",
   "metadata": {},
   "source": [
    "## 3️⃣ Univariate Analysis\n",
    "🔹 Definition:\n",
    "Study of one variable at a time to understand its distribution and properties.\n",
    "\n",
    "#### For Numerical Features:\n",
    "\n",
    "```\n",
    "import seaborn as sns\n",
    "sns.histplot(df['age'], kde=True)\n",
    "```\n",
    "\n",
    "- Histogram: Frequency distribution\n",
    "\n",
    "- Boxplot: Spread and outliers\n",
    "\n",
    "- KDE Plot: Smoothed probability density"
   ]
  },
  {
   "cell_type": "markdown",
   "id": "7396e660-f72f-477f-af7d-965d71c57402",
   "metadata": {},
   "source": [
    "#### For Categorical Features:\n",
    "```\n",
    "sns.countplot(x='gender', data=df)\n",
    "```\n",
    "- Bar charts show frequency of each category.\n",
    "\n",
    "---\n"
   ]
  },
  {
   "cell_type": "markdown",
   "id": "b0815f89-a408-4146-8bde-f5b6d0f7508c",
   "metadata": {},
   "source": [
    "## 4️⃣ Bivariate Analysis\n",
    "🔹 Definition:\n",
    "Study of two variables together to understand their relationship.\n",
    "\n",
    "#### 🔸 Numerical vs Numerical:\n",
    "```\n",
    "sns.scatterplot(x='height', y='weight', data=df)\n",
    "df.corr()\n",
    "sns.heatmap(df.corr(), annot=True)\n",
    "```\n",
    "Correlation coefficient:\n",
    "\n",
    "Values range from -1 (perfect negative) to 1 (perfect positive).\n",
    "\n",
    "#### 🔸 Categorical vs Numerical:\n",
    "```\n",
    "sns.boxplot(x='gender', y='income', data=df)\n",
    "```\n",
    "Helps compare distributions across categories.\n",
    "\n",
    "#### 🔸 Categorical vs Categorical:\n",
    "```\n",
    "pd.crosstab(df['gender'], df['purchase'], normalize='index')\n",
    "sns.countplot(x='purchase', hue='gender', data=df)\n",
    "```\n",
    "---\n",
    "\n"
   ]
  },
  {
   "cell_type": "markdown",
   "id": "3984f4b7-59dd-4c82-bda9-a03bda7a8e6d",
   "metadata": {},
   "source": [
    "## 5️⃣ Missing Values Analysis\n",
    "Definition: Values that are absent from the dataset.\n",
    "\n",
    "```\n",
    "df.isnull().sum()\n",
    "sns.heatmap(df.isnull(), cbar=False)\n",
    "```\n",
    "Why Important?\n",
    "\n",
    "Missing data skews model performance and must be handled properly (imputation/removal).\n",
    "\n",
    "----"
   ]
  },
  {
   "cell_type": "markdown",
   "id": "8ca526c0-ced6-4a73-a968-6151b97c8ed9",
   "metadata": {},
   "source": [
    "## 6️⃣ Outlier Detection\n",
    "Definition: An outlier is a data point that lies outside the normal range of values.\n",
    "\n",
    "Methods:\n",
    "- Z-score\n",
    "- IQR (Interquartile Range):\n",
    "```\n",
    "sns.boxplot(x='salary', data=df)\n",
    "```\n",
    "**Impact:**\n",
    "Outliers can distort means, variances, and affect model accuracy.\n",
    "\n",
    "---\n",
    "\n",
    "\n",
    "\n"
   ]
  },
  {
   "cell_type": "markdown",
   "id": "1a25bca2-dda7-4d58-b7dc-31320083c900",
   "metadata": {},
   "source": [
    "## 7️⃣ Skewness & Kurtosis\n",
    "**Skewness:** Measures symmetry (0 = perfect symmetry)\n",
    "```\n",
    "df['income'].skew()\n",
    "```\n",
    "- > 0 → right skew\n",
    "\n",
    "- < 0 → left skew\n",
    "\n",
    "**Kurtosis:** Measures the \"tailedness\" of the distribution\n",
    "\n",
    "```\n",
    "df['income'].kurtosis()\n",
    "```\n",
    "---"
   ]
  },
  {
   "cell_type": "markdown",
   "id": "bf5059fc-5931-4e82-a3d3-855b85ed18ef",
   "metadata": {},
   "source": [
    "## 8️⃣ Correlation Matrix\n",
    "Definition: A matrix showing correlation coefficients between variables.\n",
    "```\n",
    "import matplotlib.pyplot as plt\n",
    "sns.heatmap(df.corr(), annot=True, cmap='coolwarm')\n",
    "```\n",
    "Use:\n",
    "\n",
    "- Identify multicollinearity\n",
    "- Choose features for linear models\n",
    "\n",
    "---\n"
   ]
  },
  {
   "cell_type": "markdown",
   "id": "0beaf1d6-4b81-4712-8f31-7dc573868f1c",
   "metadata": {},
   "source": [
    "## 9️⃣ Pair Plot\n",
    "```\n",
    "sns.pairplot(df, hue='target')\n",
    "```\n",
    "- Great for multivariate relationships\n",
    "- Shows scatterplots + histograms\n",
    "---"
   ]
  },
  {
   "cell_type": "markdown",
   "id": "3cae6776-3a02-47ce-93b8-1a2342bd1e0e",
   "metadata": {},
   "source": [
    "## 🔟 Target Variable Analysis (Class Imbalance)\n",
    "```\n",
    "df['target'].value_counts(normalize=True)\n",
    "sns.countplot(x='target', data=df)\n",
    "```\n",
    "Why Important?\n",
    "- Imbalanced classes bias the model.\n",
    "- Use resampling techniques like SMOTE, oversampling, or adjusting class weights.\n",
    "\n",
    "---"
   ]
  },
  {
   "cell_type": "markdown",
   "id": "f60a70f6-a125-45b9-8f28-a526dcadcb7b",
   "metadata": {},
   "source": [
    "| Step                 | Purpose                       | Tools                            |\n",
    "| -------------------- | ----------------------------- | -------------------------------- |\n",
    "| Data Inspection      | Structure, completeness       | `info()`, `head()`, `describe()` |\n",
    "| Univariate Analysis  | Distribution of each variable | `histplot()`, `countplot()`      |\n",
    "| Bivariate Analysis   | Variable relationships        | `scatterplot()`, `boxplot()`     |\n",
    "| Missing Value Check  | Handle NULLs                  | `isnull()`, `heatmap()`          |\n",
    "| Outlier Detection    | Remove extreme values         | `boxplot()`, `IQR`, `Z-score`    |\n",
    "| Correlation Analysis | Detect multicollinearity      | `corr()`, `heatmap()`            |\n",
    "| Class Balance Check  | Check label distribution      | `value_counts()`, `countplot()`  |\n"
   ]
  },
  {
   "cell_type": "markdown",
   "id": "ef430d47-5df5-4065-a098-da4d29dd8d59",
   "metadata": {},
   "source": [
    "## 📌 Final Notes on EDA\n",
    "- EDA helps you understand your data before modeling.\n",
    "- Combine visualizations with statistics for best insights.\n",
    "- It’s an iterative process: discover → clean → explore → repeat."
   ]
  },
  {
   "cell_type": "markdown",
   "id": "95e8845c-eddf-44e7-80f2-94f47db09381",
   "metadata": {},
   "source": []
  },
  {
   "cell_type": "markdown",
   "id": "2c3cd859-fbf3-4b3b-a8fe-e208cf1850b7",
   "metadata": {},
   "source": []
  },
  {
   "cell_type": "markdown",
   "id": "0a7e19f1-278f-4e69-968f-179a0b06ad75",
   "metadata": {},
   "source": []
  }
 ],
 "metadata": {
  "kernelspec": {
   "display_name": "Python 3 (ipykernel)",
   "language": "python",
   "name": "python3"
  },
  "language_info": {
   "codemirror_mode": {
    "name": "ipython",
    "version": 3
   },
   "file_extension": ".py",
   "mimetype": "text/x-python",
   "name": "python",
   "nbconvert_exporter": "python",
   "pygments_lexer": "ipython3",
   "version": "3.13.1"
  }
 },
 "nbformat": 4,
 "nbformat_minor": 5
}
