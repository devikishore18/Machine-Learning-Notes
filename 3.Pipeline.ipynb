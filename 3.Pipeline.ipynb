{
 "cells": [
  {
   "cell_type": "markdown",
   "id": "cab4742c-a0fd-46f6-97f5-44a91dd63419",
   "metadata": {},
   "source": [
    "# Machine Learning Pipeline"
   ]
  },
  {
   "cell_type": "markdown",
   "id": "64a9c329-e2d5-4797-ad75-27a1d41d4dd2",
   "metadata": {},
   "source": [
    "- A machine learning pipeline is an organized approach that automates the entire process, from collecting raw data to deploying a trained model for practical use.\n",
    "- In artificial intelligence, developing a successful machine learning model involves more than selecting the best algorithm; it requires effective data management, training, and deployment in an organized manner. A machine learning pipeline becomes crucial in this situation."
   ]
  },
  {
   "cell_type": "markdown",
   "id": "bf57a206-83c8-48a1-bce2-86f2c8b3eaa7",
   "metadata": {},
   "source": [
    "## Steps to build Machine Learning Pipeline\n"
   ]
  },
  {
   "cell_type": "markdown",
   "id": "fc9a9dc1-ecee-48f9-a130-ff2dd8068e2c",
   "metadata": {},
   "source": [
    "- Step 1: Data Collection and Preprocessing\n",
    "- Step 2: Feature Engineering\n",
    "- Step 3: Data splitting\n",
    "- Step 4: Model Selection & Training\n",
    "- Step 5: Model evaluation & Optimization\n",
    "- Step 6: Model Deployment\n",
    "- Step 7: Continuous learning & Monitoring\n"
   ]
  },
  {
   "cell_type": "markdown",
   "id": "39c0b561-303f-4600-be12-c598d0ca544d",
   "metadata": {},
   "source": [
    "## Implementation for model Training\n"
   ]
  },
  {
   "cell_type": "markdown",
   "id": "fc151894-f2df-450b-ad35-d582298ee1f2",
   "metadata": {},
   "source": [
    "## 1. Import Libraries\n",
    "\n",
    "\n",
    "\n"
   ]
  },
  {
   "cell_type": "code",
   "execution_count": 2,
   "id": "f34a104c-cbab-4ff2-9b71-70231eacadff",
   "metadata": {},
   "outputs": [],
   "source": [
    "import numpy as np\n",
    "import pandas as pd\n",
    "from sklearn.model_selection import train_test_split\n",
    "from sklearn.preprocessing import StandardScaler, OneHotEncoder\n",
    "from sklearn.pipeline import Pipeline\n",
    "from sklearn.compose import ColumnTransformer\n",
    "from sklearn.ensemble import RandomForestClassifier\n",
    "from sklearn.metrics import accuracy_score"
   ]
  },
  {
   "cell_type": "markdown",
   "id": "9ba43f96-7e0e-4249-a464-7e6e7936dcf5",
   "metadata": {},
   "source": [
    "## 2. Load and Prepare the data\n",
    "\n",
    "\n",
    "\n"
   ]
  },
  {
   "cell_type": "code",
   "execution_count": 3,
   "id": "59cb7ddd-b8de-4038-9160-d4a14a25ab6d",
   "metadata": {},
   "outputs": [
    {
     "name": "stdout",
     "output_type": "stream",
     "text": [
      "   Pclass     Sex   Age  SibSp  Parch     Fare Embarked  Survived\n",
      "0       3    male  22.0      1      0   7.2500        S         0\n",
      "1       1  female  38.0      1      0  71.2833        C         1\n",
      "2       3  female  26.0      0      0   7.9250        S         1\n",
      "3       1  female  35.0      1      0  53.1000        S         1\n",
      "4       3    male  35.0      0      0   8.0500        S         0\n"
     ]
    }
   ],
   "source": [
    "# Load dataset\n",
    "df = pd.read_csv(\"https://raw.githubusercontent.com/datasciencedojo/datasets/master/titanic.csv\")\n",
    "\n",
    "# Select relevant features\n",
    "features = ['Pclass', 'Sex', 'Age', 'SibSp', 'Parch', 'Fare', 'Embarked']\n",
    "df = df[features + ['Survived']].dropna()  # Drop rows with missing values\n",
    "\n",
    "# Display the first few rows\n",
    "print(df.head())"
   ]
  },
  {
   "cell_type": "code",
   "execution_count": 5,
   "id": "5a5e7cfe-4d3a-4f81-84ca-c165b439c3cb",
   "metadata": {},
   "outputs": [
    {
     "data": {
      "text/html": [
       "<div>\n",
       "<style scoped>\n",
       "    .dataframe tbody tr th:only-of-type {\n",
       "        vertical-align: middle;\n",
       "    }\n",
       "\n",
       "    .dataframe tbody tr th {\n",
       "        vertical-align: top;\n",
       "    }\n",
       "\n",
       "    .dataframe thead th {\n",
       "        text-align: right;\n",
       "    }\n",
       "</style>\n",
       "<table border=\"1\" class=\"dataframe\">\n",
       "  <thead>\n",
       "    <tr style=\"text-align: right;\">\n",
       "      <th></th>\n",
       "      <th>Pclass</th>\n",
       "      <th>Sex</th>\n",
       "      <th>Age</th>\n",
       "      <th>SibSp</th>\n",
       "      <th>Parch</th>\n",
       "      <th>Fare</th>\n",
       "      <th>Embarked</th>\n",
       "      <th>Survived</th>\n",
       "    </tr>\n",
       "  </thead>\n",
       "  <tbody>\n",
       "    <tr>\n",
       "      <th>0</th>\n",
       "      <td>3</td>\n",
       "      <td>male</td>\n",
       "      <td>22.0</td>\n",
       "      <td>1</td>\n",
       "      <td>0</td>\n",
       "      <td>7.2500</td>\n",
       "      <td>S</td>\n",
       "      <td>0</td>\n",
       "    </tr>\n",
       "    <tr>\n",
       "      <th>1</th>\n",
       "      <td>1</td>\n",
       "      <td>female</td>\n",
       "      <td>38.0</td>\n",
       "      <td>1</td>\n",
       "      <td>0</td>\n",
       "      <td>71.2833</td>\n",
       "      <td>C</td>\n",
       "      <td>1</td>\n",
       "    </tr>\n",
       "    <tr>\n",
       "      <th>2</th>\n",
       "      <td>3</td>\n",
       "      <td>female</td>\n",
       "      <td>26.0</td>\n",
       "      <td>0</td>\n",
       "      <td>0</td>\n",
       "      <td>7.9250</td>\n",
       "      <td>S</td>\n",
       "      <td>1</td>\n",
       "    </tr>\n",
       "    <tr>\n",
       "      <th>3</th>\n",
       "      <td>1</td>\n",
       "      <td>female</td>\n",
       "      <td>35.0</td>\n",
       "      <td>1</td>\n",
       "      <td>0</td>\n",
       "      <td>53.1000</td>\n",
       "      <td>S</td>\n",
       "      <td>1</td>\n",
       "    </tr>\n",
       "    <tr>\n",
       "      <th>4</th>\n",
       "      <td>3</td>\n",
       "      <td>male</td>\n",
       "      <td>35.0</td>\n",
       "      <td>0</td>\n",
       "      <td>0</td>\n",
       "      <td>8.0500</td>\n",
       "      <td>S</td>\n",
       "      <td>0</td>\n",
       "    </tr>\n",
       "    <tr>\n",
       "      <th>...</th>\n",
       "      <td>...</td>\n",
       "      <td>...</td>\n",
       "      <td>...</td>\n",
       "      <td>...</td>\n",
       "      <td>...</td>\n",
       "      <td>...</td>\n",
       "      <td>...</td>\n",
       "      <td>...</td>\n",
       "    </tr>\n",
       "    <tr>\n",
       "      <th>885</th>\n",
       "      <td>3</td>\n",
       "      <td>female</td>\n",
       "      <td>39.0</td>\n",
       "      <td>0</td>\n",
       "      <td>5</td>\n",
       "      <td>29.1250</td>\n",
       "      <td>Q</td>\n",
       "      <td>0</td>\n",
       "    </tr>\n",
       "    <tr>\n",
       "      <th>886</th>\n",
       "      <td>2</td>\n",
       "      <td>male</td>\n",
       "      <td>27.0</td>\n",
       "      <td>0</td>\n",
       "      <td>0</td>\n",
       "      <td>13.0000</td>\n",
       "      <td>S</td>\n",
       "      <td>0</td>\n",
       "    </tr>\n",
       "    <tr>\n",
       "      <th>887</th>\n",
       "      <td>1</td>\n",
       "      <td>female</td>\n",
       "      <td>19.0</td>\n",
       "      <td>0</td>\n",
       "      <td>0</td>\n",
       "      <td>30.0000</td>\n",
       "      <td>S</td>\n",
       "      <td>1</td>\n",
       "    </tr>\n",
       "    <tr>\n",
       "      <th>889</th>\n",
       "      <td>1</td>\n",
       "      <td>male</td>\n",
       "      <td>26.0</td>\n",
       "      <td>0</td>\n",
       "      <td>0</td>\n",
       "      <td>30.0000</td>\n",
       "      <td>C</td>\n",
       "      <td>1</td>\n",
       "    </tr>\n",
       "    <tr>\n",
       "      <th>890</th>\n",
       "      <td>3</td>\n",
       "      <td>male</td>\n",
       "      <td>32.0</td>\n",
       "      <td>0</td>\n",
       "      <td>0</td>\n",
       "      <td>7.7500</td>\n",
       "      <td>Q</td>\n",
       "      <td>0</td>\n",
       "    </tr>\n",
       "  </tbody>\n",
       "</table>\n",
       "<p>712 rows × 8 columns</p>\n",
       "</div>"
      ],
      "text/plain": [
       "     Pclass     Sex   Age  SibSp  Parch     Fare Embarked  Survived\n",
       "0         3    male  22.0      1      0   7.2500        S         0\n",
       "1         1  female  38.0      1      0  71.2833        C         1\n",
       "2         3  female  26.0      0      0   7.9250        S         1\n",
       "3         1  female  35.0      1      0  53.1000        S         1\n",
       "4         3    male  35.0      0      0   8.0500        S         0\n",
       "..      ...     ...   ...    ...    ...      ...      ...       ...\n",
       "885       3  female  39.0      0      5  29.1250        Q         0\n",
       "886       2    male  27.0      0      0  13.0000        S         0\n",
       "887       1  female  19.0      0      0  30.0000        S         1\n",
       "889       1    male  26.0      0      0  30.0000        C         1\n",
       "890       3    male  32.0      0      0   7.7500        Q         0\n",
       "\n",
       "[712 rows x 8 columns]"
      ]
     },
     "execution_count": 5,
     "metadata": {},
     "output_type": "execute_result"
    }
   ],
   "source": [
    "df"
   ]
  },
  {
   "cell_type": "code",
   "execution_count": 6,
   "id": "aece9baa-5ac0-4c69-a79f-31ff7373e9f4",
   "metadata": {},
   "outputs": [
    {
     "data": {
      "text/plain": [
       "Pclass        int64\n",
       "Sex          object\n",
       "Age         float64\n",
       "SibSp         int64\n",
       "Parch         int64\n",
       "Fare        float64\n",
       "Embarked     object\n",
       "Survived      int64\n",
       "dtype: object"
      ]
     },
     "execution_count": 6,
     "metadata": {},
     "output_type": "execute_result"
    }
   ],
   "source": [
    "df.dtypes"
   ]
  },
  {
   "cell_type": "markdown",
   "id": "c7d8b96a-d058-4560-b293-5051a20cddfc",
   "metadata": {},
   "source": [
    "## 3. Define Preprocessing Steps\n",
    "\n",
    "\n",
    "\n"
   ]
  },
  {
   "cell_type": "code",
   "execution_count": 7,
   "id": "5b1ba019-3c5a-4ad4-a37b-0d2750704134",
   "metadata": {},
   "outputs": [],
   "source": [
    "# Define numerical and categorical features\n",
    "num_features = ['Age', 'SibSp', 'Parch', 'Fare']\n",
    "cat_features = ['Pclass', 'Sex', 'Embarked']\n",
    "\n",
    "# Define transformers\n",
    "num_transformer = StandardScaler()  # Standardization for numerical features\n",
    "cat_transformer = OneHotEncoder(handle_unknown='ignore')  # One-hot encoding for categorical features\n",
    "\n",
    "# Combine transformers into a preprocessor\n",
    "preprocessor = ColumnTransformer([\n",
    "    ('num', num_transformer, num_features),\n",
    "    ('cat', cat_transformer, cat_features)\n",
    "])"
   ]
  },
  {
   "cell_type": "markdown",
   "id": "a8a851ad-3ed3-496e-bb45-6cf31788dd09",
   "metadata": {},
   "source": [
    "## 4. Split the data for training and Testing\n",
    "\n",
    "\n",
    "\n"
   ]
  },
  {
   "cell_type": "code",
   "execution_count": 8,
   "id": "81f771e3-52fe-49f0-9d0e-3ae84672bdf6",
   "metadata": {},
   "outputs": [
    {
     "name": "stdout",
     "output_type": "stream",
     "text": [
      "Training set shape: (569, 7)\n",
      "Testing set shape: (143, 7)\n"
     ]
    }
   ],
   "source": [
    "# Define target and features\n",
    "X = df[features]\n",
    "y = df['Survived']\n",
    "\n",
    "# Split into training and testing sets\n",
    "X_train, X_test, y_train, y_test = train_test_split(X, y, test_size=0.2, random_state=42)\n",
    "\n",
    "# Display the shape of the data\n",
    "print(f\"Training set shape: {X_train.shape}\")\n",
    "print(f\"Testing set shape: {X_test.shape}\")"
   ]
  },
  {
   "cell_type": "markdown",
   "id": "b3b10532-01b2-4e74-a367-1851404a490d",
   "metadata": {},
   "source": [
    "## 5. Build and Train model\n",
    "\n",
    "\n",
    "\n"
   ]
  },
  {
   "cell_type": "code",
   "execution_count": 9,
   "id": "cfbe484b-e9d0-4ddf-ae30-cdcf7d4d1a0a",
   "metadata": {},
   "outputs": [
    {
     "name": "stdout",
     "output_type": "stream",
     "text": [
      "Model training complete!\n"
     ]
    }
   ],
   "source": [
    "# Define the pipeline\n",
    "pipeline = Pipeline([\n",
    "    ('preprocessor', preprocessor),  # Data transformation\n",
    "    ('classifier', RandomForestClassifier(n_estimators=100, random_state=42))  # ML model\n",
    "])\n",
    "\n",
    "# Train the model\n",
    "pipeline.fit(X_train, y_train)\n",
    "print(\"Model training complete!\")"
   ]
  },
  {
   "cell_type": "markdown",
   "id": "dff9f866-3e8b-4514-ae89-3f2766783458",
   "metadata": {},
   "source": [
    "## 6. Evaluate the Model\n",
    "\n",
    "\n",
    "\n"
   ]
  },
  {
   "cell_type": "code",
   "execution_count": 10,
   "id": "67a3cc22-08b5-4367-be52-e2c6fee13d22",
   "metadata": {},
   "outputs": [
    {
     "name": "stdout",
     "output_type": "stream",
     "text": [
      "Model Accuracy: 0.76\n"
     ]
    }
   ],
   "source": [
    "# Make predictions\n",
    "y_pred = pipeline.predict(X_test)\n",
    "\n",
    "# Compute accuracy\n",
    "accuracy = accuracy_score(y_test, y_pred)\n",
    "print(f\"Model Accuracy: {accuracy:.2f}\")"
   ]
  },
  {
   "cell_type": "code",
   "execution_count": 11,
   "id": "192082fc-d0c6-4aaf-b396-ed111531fc5f",
   "metadata": {},
   "outputs": [
    {
     "name": "stdout",
     "output_type": "stream",
     "text": [
      "Prediction: Did not Survive\n"
     ]
    }
   ],
   "source": [
    "import joblib\n",
    "\n",
    "# Save the trained pipeline\n",
    "joblib.dump(pipeline, 'ml_pipeline.pkl')\n",
    "\n",
    "# Load the model\n",
    "loaded_pipeline = joblib.load('ml_pipeline.pkl')\n",
    "\n",
    "# Predict using the loaded model\n",
    "sample_data = pd.DataFrame([{'Pclass': 3, 'Sex': 'male', 'Age': 25, 'SibSp': 0, 'Parch': 0, 'Fare': 7.5, 'Embarked': 'S'}])\n",
    "prediction = loaded_pipeline.predict(sample_data)\n",
    "print(f\"Prediction: {'Survived' if prediction[0] == 1 else 'Did not Survive'}\")"
   ]
  },
  {
   "cell_type": "code",
   "execution_count": null,
   "id": "9374764d-9087-4b7d-9140-7cf6b9a669d3",
   "metadata": {},
   "outputs": [],
   "source": []
  }
 ],
 "metadata": {
  "kernelspec": {
   "display_name": "Python 3 (ipykernel)",
   "language": "python",
   "name": "python3"
  },
  "language_info": {
   "codemirror_mode": {
    "name": "ipython",
    "version": 3
   },
   "file_extension": ".py",
   "mimetype": "text/x-python",
   "name": "python",
   "nbconvert_exporter": "python",
   "pygments_lexer": "ipython3",
   "version": "3.13.1"
  }
 },
 "nbformat": 4,
 "nbformat_minor": 5
}
