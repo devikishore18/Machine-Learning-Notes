{
 "cells": [
  {
   "cell_type": "markdown",
   "id": "e46fb7ff-fae6-4002-8da6-c2dc7deb02e7",
   "metadata": {},
   "source": [
    "# Machine learning (ML)\n",
    "Machine learning (ML) allows computers to learn and make decisions without being explicitly programmed. It involves feeding data into algorithms to identify patterns and make predictions on new data."
   ]
  },
  {
   "cell_type": "markdown",
   "id": "37409fe7-ef7e-48a6-89ba-59d30ba19ae0",
   "metadata": {},
   "source": [
    "## Why do we need Machine Learning?\n",
    "   **1. Solving Complex Business Problems**\n",
    "\n",
    "\n",
    "      Examples:\n",
    "       - Image and speech recognition in healthcare.\n",
    "       - Language translation and sentiment analysis.\n",
    "\n",
    "\n",
    "  **2. Handling Large Volumes of Data**\n",
    "\n",
    "\n",
    "      Examples:\n",
    "      - Fraud detection in financial transactions.\n",
    "      - Personalized feed recommendations on Facebook and Instagram from billions of interactions.\n",
    "\n",
    "   **3. Automate Repetitive Tasks**\n",
    "\n",
    "\n",
    "      Examples:\n",
    "      - Gmail filtering spam emails automatically.                                               \n",
    "      - Chatbots handling order tracking and password resets.\n",
    "      - Automating large-scale invoice analysis for key insights.\n",
    "   **4. Personalized User Experience**\n",
    "\n",
    "\n",
    "      Examples:\n",
    "      - Netflix suggesting movies and TV shows based on our viewing history.\n",
    "      - E-commerce sites recommending products we're likely to buy.\n",
    "   **6. Self Improvement in Performance**\n",
    "\n",
    "\n",
    "      Examples:\n",
    "      - Voice assistants like Siri and Alexa learning our preferences and accents.\n",
    "      - Search engines refining results based on user interaction.\n",
    "      - Self-driving cars improving decisions using millions of miles of driving data.\n",
    "\n",
    "\n"
   ]
  },
  {
   "cell_type": "markdown",
   "id": "74dd4dbe-5440-4316-807f-dcca509ea5eb",
   "metadata": {},
   "source": [
    "##  How the learning process works:\n",
    "\n",
    "1.**Data Input**: \n",
    "- Machine needs data like text, images or numbers to analyze.\n",
    "- Good quality and enough quantity of data are important for effective learning.\n",
    "\n",
    "2.**Algorithms**:\n",
    "- Algorithms are mathematical methods that help the machine find patterns in data.\n",
    "-  Different algorithms help different tasks such as classification or regression.\n",
    "  \n",
    "3.**Model Training**:\n",
    "- During training, the machine adjusts its internal settings to better predict outcomes.\n",
    "- It learns by reducing the difference between its predictions and actual results.\n",
    "\n",
    "4.**Feedback Loop**:\n",
    "- Machine compares its predictions with true outcomes and uses this feedback to correct errors.\n",
    "- Techniques like gradient descent help it update and improve.\n",
    "\n",
    "5.**Experience and Iteration**:\n",
    "- Machine repeats training many times with data helps in refining its predictions with each pass, more data and iterations improve accuracy.\n",
    "\n",
    "6.**Evaluation and Generalization**:\n",
    "- Model is tested on unseen data to ensure it performs well on real-world tasks.\n",
    "\n"
   ]
  },
  {
   "cell_type": "markdown",
   "id": "e8b1b045-4b21-4b70-a6d0-11e603da846a",
   "metadata": {},
   "source": [
    "## Types of Machine Learning\n",
    "1. Supervised learning\n",
    "2. Unsupervised learning:\n",
    "3. Reinforcement Learning\n"
   ]
  },
  {
   "cell_type": "markdown",
   "id": "563499ff-bb43-47ec-a156-c0bf4732f89e",
   "metadata": {},
   "source": [
    "## Benefits of Machine Learning\n"
   ]
  },
  {
   "cell_type": "markdown",
   "id": "c74e0222-7ae9-4dca-aae6-f434f63725c0",
   "metadata": {},
   "source": [
    "- Enhanced Efficiency and Automation\n",
    "- Data-Driven Insights\n",
    "- Improved Personalization\n",
    "- Advanced Automation and Robotics\n"
   ]
  },
  {
   "cell_type": "markdown",
   "id": "30f23386-ffb7-4dfd-b3fe-977d7c2e9db7",
   "metadata": {},
   "source": [
    "## Challenges of Machine Learning"
   ]
  },
  {
   "cell_type": "markdown",
   "id": "119ba9c3-18c0-4260-8e55-7f95f1ae1800",
   "metadata": {},
   "source": [
    "- **Data Bias and Fairness**:  ML models learn from training data and if the data is biased, model’s decisions can be unfair so it’s important to select and monitor data carefully.\n",
    "- **Security and Privacy Concerns**: Since it depends on large amounts of data, there is a risk of sensitive information being exposed so protecting privacy is important.\n",
    "- **Interpretability and Explainability**: Complex ML models can be difficult to understand which makes it difficult to explain why they make certain decisions. This can affect trust and accountability.\n",
    "- **Job Displacement and Automation**: Automation may replace some jobs so retraining and helping workers learn new skills is important to adapt to these changes."
   ]
  },
  {
   "cell_type": "markdown",
   "id": "b2f2d48e-4935-4df3-b022-add750ad7eaa",
   "metadata": {},
   "source": [
    "# 1. Supervised Machine Learning"
   ]
  },
  {
   "cell_type": "markdown",
   "id": "685c80b8-8d78-41bd-8da8-1e82eb88daba",
   "metadata": {},
   "source": [
    "- Supervised learning is defined as when a model gets trained on a \"Labelled Dataset\". \n",
    "- Labelled datasets have both input and output parameters. In Supervised Learning algorithms learn to map points between inputs and correct outputs. \n",
    "- It has both training and validation datasets labelled.\n",
    "\n"
   ]
  },
  {
   "cell_type": "markdown",
   "id": "58be1186-31bc-4c4e-bd96-d8f8764ddd18",
   "metadata": {},
   "source": [
    "There are two main categories of supervised learning that are mentioned below:\n",
    "\n",
    "- Classification\n",
    "- Regression"
   ]
  },
  {
   "cell_type": "markdown",
   "id": "7a298ddd-38ea-4ad4-9d7a-4007280d94c8",
   "metadata": {},
   "source": [
    "## Classification"
   ]
  },
  {
   "cell_type": "markdown",
   "id": "59ea2bed-fbfe-40f9-a061-fc6d6d1b948e",
   "metadata": {},
   "source": [
    "- Classificationdeals with predicting categorical target variables, which represent discrete classes or labels.\n",
    "-  For instance, classifying emails as spam or not spam, or predicting whether a patient has a high risk of heart disease.\n",
    "-  Classification algorithms learn to map the input features to one of the predefined classes."
   ]
  },
  {
   "cell_type": "markdown",
   "id": "06624169-c245-45b1-b988-a9e3295518be",
   "metadata": {},
   "source": [
    "Here are some classification algorithms:\n",
    "\n",
    "- Logistic Regression\n",
    "- Support Vector Machine\n",
    "- Random Forest\n",
    "- Decision Tree\n",
    "- K-Nearest Neighbors (KNN)\n",
    "- Naive Bayes"
   ]
  },
  {
   "cell_type": "markdown",
   "id": "b438a2d3-ebca-4ce7-8df7-8f02aff8d93c",
   "metadata": {},
   "source": [
    "## Regression\n"
   ]
  },
  {
   "cell_type": "markdown",
   "id": "9a937f9a-1b33-4428-a7c6-e8a842cfaab6",
   "metadata": {},
   "source": [
    "- Regression, on the other hand, deals with predicting continuous target variables, which represent numerical values.\n",
    "-  For example, predicting the price of a house based on its size, location, and amenities, or forecasting the sales of a product.\n",
    "-   Regression algorithms learn to map the input features to a continuous numerical value."
   ]
  },
  {
   "cell_type": "markdown",
   "id": "3b602fe1-4057-4577-a915-2e1ee42b2dda",
   "metadata": {},
   "source": [
    "regression algorithms:\n",
    "\n",
    "- Linear Regression\n",
    "- Polynomial Regression\n",
    "- Ridge Regression\n",
    "- Lasso Regression\n",
    "- Decision tree\n",
    "- Random Forest"
   ]
  },
  {
   "cell_type": "markdown",
   "id": "c39dea95-a995-400a-8a38-aa2de4dc357b",
   "metadata": {},
   "source": [
    "## Applications of Supervised Learning\n",
    "\n",
    "- Image classification: Identify objects, faces, and other features in images.\n",
    "- Natural language processing: Extract information from text, such as sentiment, entities, and relationships.\n",
    "- Speech recognition: Convert spoken language into text.\n",
    "- Recommendation systems: Make personalized recommendations to users.\n",
    "- Predictive analytics: Predict outcomes, such as sales, customer churn, and stock prices.\n",
    "- Medical diagnosis: Detect diseases and other medical conditions.\n",
    "- Fraud detection: Identify fraudulent transactions.\n",
    "- Autonomous vehicles: Recognize and respond to objects in the environment.\n",
    "- Email spam detection: Classify emails as spam or not spam.\n",
    "- Quality control in manufacturing: Inspect products for defects.\n",
    "- Credit scoring: Assess the risk of a borrower defaulting on a loan.\n",
    "- Gaming: Recognize characters, analyze player behavior, and create NPCs.\n",
    "- Customer support: Automate customer support tasks.\n",
    "- Weather forecasting: Make predictions for temperature, precipitation, and other meteorological parameters.\n",
    "- Sports analytics: Analyze player performance, make game predictions, and optimize strategies."
   ]
  },
  {
   "cell_type": "markdown",
   "id": "faf3278c-2a35-491f-adfe-454d80344b9e",
   "metadata": {},
   "source": [
    "## 2. Unsupervised Machine Learning\n"
   ]
  },
  {
   "cell_type": "markdown",
   "id": "aeedc405-f652-4ea1-988d-d2083f8a5590",
   "metadata": {},
   "source": [
    "- Unsupervised learning is a type of machine learning technique in which an algorithm discovers patterns and relationships using unlabeled data.\n",
    "-  The primary goal of Unsupervised learning is often to discover hidden patterns, similarities, or clusters within the data, which can then be used for various purposes, such as data exploration, visualization, dimensionality reduction, and more."
   ]
  },
  {
   "cell_type": "markdown",
   "id": "e813981a-d2d8-418a-a54a-df96ba23fae7",
   "metadata": {},
   "source": [
    "Two main categories of unsupervised learning "
   ]
  },
  {
   "cell_type": "markdown",
   "id": "2e92f8bb-8e21-407e-8733-48ceb7d41192",
   "metadata": {},
   "source": [
    "- Clustering\n",
    "- Association"
   ]
  },
  {
   "cell_type": "markdown",
   "id": "314b0916-8c68-4345-afb0-f83a8c49cc92",
   "metadata": {},
   "source": [
    "## Clustering\n",
    "- Clustering is the process of grouping data points into clusters based on their similarity.\n",
    "- This technique is useful for identifying patterns and relationships in data without the need for labeled examples."
   ]
  },
  {
   "cell_type": "markdown",
   "id": "a42a8773-1d11-40d4-b38a-f03cc207d76c",
   "metadata": {},
   "source": [
    "Some clustering algorithms:\n",
    "\n",
    "- K-Means Clustering algorithm\n",
    "- Mean-shift algorithm\n",
    "- DBSCAN Algorithm\n",
    "- Principal Component Analysis\n",
    "- Independent Component Analysis"
   ]
  },
  {
   "cell_type": "markdown",
   "id": "7e2ea479-c6e5-46ff-a4a2-e784b684b431",
   "metadata": {},
   "source": [
    "## Association\n",
    "- Association rule learning is a technique for discovering relationships between items in a dataset.\n",
    "- It identifies rules that indicate the presence of one item implies the presence of another item with a specific probability.\n",
    "\n",
    "Association rule learning algorithms:\n",
    "\n",
    "- Apriori Algorithm\n",
    "- Eclat\n",
    "- FP-growth Algorithm"
   ]
  },
  {
   "cell_type": "markdown",
   "id": "b9319139-9380-440b-a7f1-fb4a49428ae0",
   "metadata": {},
   "source": [
    "## Applications of Unsupervised Learning\n",
    "\n",
    "- Clustering: Group similar data points into clusters.\n",
    "- Anomaly detection: Identify outliers or anomalies in data.\n",
    "- Dimensionality reduction: Reduce the dimensionality of data while preserving its essential information.\n",
    "- Recommendation systems: Suggest products, movies, or content to users based on their historical behavior or preferences.\n",
    "- Topic modeling: Discover latent topics within a collection of documents.\n",
    "- Density estimation: Estimate the probability density function of data.\n",
    "- Image and video compression: Reduce the amount of storage required for multimedia content.\n",
    "- Data preprocessing: Help with data preprocessing tasks such as data cleaning, imputation of missing values, and data scaling.\n",
    "- Market basket analysis: Discover associations between products.\n",
    "- Genomic data analysis: Identify patterns or group genes with similar expression profiles.\n",
    "- Image segmentation: Segment images into meaningful regions.\n",
    "- Community detection in social networks: Identify communities or groups of individuals with similar interests or connections.\n",
    "- Customer behavior analysis: Uncover patterns and insights for better marketing and product recommendations.\n",
    "- Content recommendation: Classify and tag content to make it easier to recommend similar items to users.\n",
    "- Exploratory data analysis (EDA): Explore data and gain insights before defining specific tasks."
   ]
  },
  {
   "cell_type": "markdown",
   "id": "d0eebf36-64fc-457b-8199-acaaf883a874",
   "metadata": {},
   "source": [
    "## 3. Reinforcement Machine Learning\n",
    "- Reinforcement machine learning algorithm is a learning method that interacts with the environment by producing actions and discovering errors.\n",
    "-  Trial, error, and delay are the most relevant characteristics of reinforcement learning.\n",
    "-   In this technique, the model keeps on increasing its performance using Reward Feedback to learn the behavior or pattern."
   ]
  },
  {
   "cell_type": "markdown",
   "id": "41484767-7978-4329-97ac-06e2a5b2e639",
   "metadata": {},
   "source": [
    "## Types of Reinforcement Machine Learning\n",
    "- Positive reinforcement\n",
    "- Negative reinforcement\n",
    "\n",
    "\n",
    "\n",
    "\n"
   ]
  },
  {
   "cell_type": "code",
   "execution_count": null,
   "id": "e89e5913-a3bc-4a5f-8e80-d52c28fc5444",
   "metadata": {},
   "outputs": [],
   "source": []
  }
 ],
 "metadata": {
  "kernelspec": {
   "display_name": "Python 3 (ipykernel)",
   "language": "python",
   "name": "python3"
  },
  "language_info": {
   "codemirror_mode": {
    "name": "ipython",
    "version": 3
   },
   "file_extension": ".py",
   "mimetype": "text/x-python",
   "name": "python",
   "nbconvert_exporter": "python",
   "pygments_lexer": "ipython3",
   "version": "3.13.1"
  }
 },
 "nbformat": 4,
 "nbformat_minor": 5
}
