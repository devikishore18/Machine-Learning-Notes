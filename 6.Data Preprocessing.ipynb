{
 "cells": [
  {
   "cell_type": "markdown",
   "id": "1984fa8a-ab03-4bd0-933d-c2dbc968b5e6",
   "metadata": {},
   "source": [
    "# 🧹 Data Preprocessing in Machine Learning\n",
    "\n",
    "Data preprocessing is a crucial step in building any machine learning model. It involves transforming raw data into a clean and structured format to improve model performance and reliability.\n",
    "\n",
    "---\n",
    "\n",
    "## 📌 Why is Data Preprocessing Important?\n",
    "\n",
    "- Real-world datasets are **noisy, incomplete, inconsistent, and unstructured**\n",
    "- Most ML algorithms **expect clean, numeric, and scaled inputs**\n",
    "- Helps in reducing **bias, variance**, and **overfitting**\n",
    "- Increases **accuracy, robustness**, and **generalization**\n",
    "\n",
    "---\n",
    "\n",
    "## 🔑 Key Steps in Data Preprocessing\n",
    "\n",
    "---\n",
    "\n",
    "## 1️⃣ Data Cleaning\n",
    "\n",
    "### ✅ a. Handling Missing Values\n",
    "\n",
    "Real-world datasets often contain missing values due to various reasons (human error, system failure, etc.)\n",
    "\n",
    "**Techniques:**\n",
    "\n",
    "- **Deletion**: Remove rows/columns with missing data\n",
    "  ```python\n",
    "  df.dropna()\n"
   ]
  },
  {
   "cell_type": "markdown",
   "id": "d2410efd-60e2-4e30-af34-c049b4adac3a",
   "metadata": {},
   "source": [
    "- Imputation:\n",
    "  - Mean/Median/Mode imputation for numerical\n",
    "  - Constant or frequent label for categorical"
   ]
  },
  {
   "cell_type": "markdown",
   "id": "dc90c532-622d-478c-9286-02f449f0cdb6",
   "metadata": {},
   "source": [
    "```\n",
    "df['age'].fillna(df['age'].mean(), inplace=True)\n",
    "df['gender'].fillna(df['gender'].mode()[0], inplace=True)\n",
    "```"
   ]
  },
  {
   "cell_type": "markdown",
   "id": "d069ddb9-2923-4abd-85ab-6cbacb828746",
   "metadata": {},
   "source": [
    "- Advanced Methods: KNNImputer, IterativeImputer, etc.\n",
    "\n"
   ]
  },
  {
   "cell_type": "markdown",
   "id": "b7ecd1f4-5ec4-46fd-ab9e-bdcfd98d46d2",
   "metadata": {},
   "source": [
    "### ✅ b. Handling Duplicates\n"
   ]
  },
  {
   "cell_type": "markdown",
   "id": "29d7edd9-0b17-4e23-97d7-31f4c346912d",
   "metadata": {},
   "source": [
    " Duplicate records can skew model learning.\n",
    "\n",
    "```\n",
    "df.drop_duplicates(inplace=True)\n",
    "```\n"
   ]
  },
  {
   "cell_type": "markdown",
   "id": "9b3d6ca6-98f8-4e73-a448-1759c9f6b8b0",
   "metadata": {},
   "source": [
    "### ✅ c. Handling Outliers\n",
    "Outliers are extreme values that deviate significantly from other observations.\n",
    "\n",
    "Techniques:\n",
    "\n",
    "- Z-score method:\n",
    "\n",
    "Any value with |z| > 3 is considered an outlier.\n",
    "\n",
    "- IQR (Interquartile Range):\n",
    "\n",
    "\n",
    "IQR=Q3−Q1\n",
    "Outlier if:\n",
    "\n",
    "\n",
    "\n",
    "x<Q1−1.5×IQRorx>Q3+1.5×IQR\n",
    "\n",
    "---"
   ]
  },
  {
   "cell_type": "markdown",
   "id": "fe519c3d-8d27-4869-b320-8bdf9e170411",
   "metadata": {
    "jp-MarkdownHeadingCollapsed": true
   },
   "source": [
    "## 2️⃣ Data Integration\n",
    "✅ Definition:\n",
    "Combining data from multiple sources into a unified dataset.\n",
    "\n",
    "⚙ Common Issues:\n",
    "- Schema conflicts\n",
    "- Duplicate entries\n",
    "- Missing joins\n",
    "\n",
    "---"
   ]
  },
  {
   "cell_type": "markdown",
   "id": "7856f884-e834-4d38-afc1-cfd5889a5bbb",
   "metadata": {},
   "source": [
    "## 3️⃣ Data Transformation\n",
    "### ✅ a. Encoding Categorical Variables\n",
    "Most ML models need numeric input.\n",
    "\n",
    "#### Label Encoding:\n",
    "Converts categories to integers (suitable for ordinal data)\n",
    "\n",
    "```\n",
    "from sklearn.preprocessing import LabelEncoder\n",
    "df['Gender'] = LabelEncoder().fit_transform(df['Gender'])\n",
    "```"
   ]
  },
  {
   "cell_type": "markdown",
   "id": "eb1d9664-7c40-4f82-b7d4-73ef76fb5a0e",
   "metadata": {},
   "source": [
    "#### One-Hot Encoding:\n",
    "Creates binary columns for each category (nominal data)\n",
    "```\n",
    "pd.get_dummies(df, columns=['Color'])\n",
    "```\n"
   ]
  },
  {
   "cell_type": "markdown",
   "id": "e0b40f44-731c-4a9b-8c28-e878001ca344",
   "metadata": {},
   "source": [
    "#### ✅ b. Feature Scaling\n",
    "Different features may have different scales and units, which can negatively affect distance-based or gradient-based models."
   ]
  },
  {
   "cell_type": "markdown",
   "id": "15d63285-b216-4528-9efa-0a95521e1b55",
   "metadata": {},
   "source": [
    "#### 🔹 Standardization (Z-score Normalization)\n",
    "```\n",
    "from sklearn.preprocessing import StandardScaler\n",
    "scaler = StandardScaler()\n",
    "X_scaled = scaler.fit_transform(X)\n",
    "```"
   ]
  },
  {
   "cell_type": "markdown",
   "id": "f2499f4d-f4e4-4fb3-80b1-8c7a98f8c1b4",
   "metadata": {},
   "source": [
    "#### 🔹  Min-Max Normalization\n",
    "```\n",
    "from sklearn.preprocessing import MinMaxScaler\n",
    "```"
   ]
  },
  {
   "cell_type": "markdown",
   "id": "b526dafa-78a7-424d-8641-f0b9daa420b3",
   "metadata": {},
   "source": [
    "### ✅ c. Log Transformation\n"
   ]
  },
  {
   "cell_type": "markdown",
   "id": "d469bd32-7153-4b8e-8b6d-54034f8d2747",
   "metadata": {},
   "source": [
    "Useful when features are highly skewed.\n",
    "\n",
    "```\n",
    "df['col'] = np.log1p(df['col'])  # log(1+x)\n",
    "```\n",
    "---"
   ]
  },
  {
   "cell_type": "markdown",
   "id": "b1b4ed57-d6b9-48ab-be21-6143a853e0b8",
   "metadata": {},
   "source": [
    "## 4️⃣ Data Discretization (Binning)\n",
    "Converts continuous variables into categorical bins.\n",
    "```\n",
    "pd.cut(df['age'], bins=[0, 18, 35, 60, 100], labels=['Teen', 'Young', 'Adult', 'Senior'])\n",
    "```\n",
    "\n",
    "Useful for:\n",
    "\n",
    "- Improving model interpretability\n",
    "- Reducing sensitivity to outliers\n",
    "\n",
    "---"
   ]
  },
  {
   "cell_type": "markdown",
   "id": "7987a0b1-8a8e-473d-ba1f-f54578ab86ae",
   "metadata": {},
   "source": [
    "## 5️⃣ Handling Imbalanced Data\n",
    "When one class significantly outweighs others.\n",
    "\n",
    "✅ Techniques:\n",
    "Resampling:\n",
    "\n",
    "- Oversampling (e.g., SMOTE)\n",
    "- Undersampling\n",
    "\n",
    "Use class weights:\n",
    "```\n",
    "model.fit(X, y, class_weight='balanced')\n",
    "```\n",
    "\n",
    "---"
   ]
  },
  {
   "cell_type": "markdown",
   "id": "a3f00122-04d6-4f2c-a3d3-8c5e42f72249",
   "metadata": {},
   "source": [
    "## 6️⃣ Train-Test Split\n",
    "Splitting data into training and testing sets helps evaluate model generalization.\n",
    "\n",
    "```\n",
    "from sklearn.model_selection import train_test_split\n",
    "X_train, X_test, y_train, y_test = train_test_split(X, y, test_size=0.2, random_state=42)\n",
    "\n",
    "```\n",
    "For time-series data, avoid random shuffling — use TimeSeriesSplit.\n",
    "\n",
    "---\n"
   ]
  },
  {
   "cell_type": "markdown",
   "id": "bc005218-4b0c-4263-aa8e-7e7cfe67f6f1",
   "metadata": {},
   "source": [
    "## 7️⃣ Data Pipeline Automation\n",
    "Use Pipelines to automate preprocessing + model building:\n",
    "```\n",
    "from sklearn.pipeline import Pipeline\n",
    "pipe = Pipeline([\n",
    "    ('scaler', StandardScaler()),\n",
    "    ('model', LogisticRegression())\n",
    "])\n",
    "\n",
    "```\n",
    "\n",
    "---"
   ]
  },
  {
   "cell_type": "markdown",
   "id": "13ec0a36-0ce7-41b3-884c-a350b6b12dce",
   "metadata": {},
   "source": [
    "### Use joblib to save and reuse pipelines:\n",
    "```\n",
    "import joblib\n",
    "joblib.dump(pipe, 'model_pipeline.pkl')\n",
    "```\n",
    "---"
   ]
  },
  {
   "cell_type": "markdown",
   "id": "7c919ccc-b684-445e-a5df-e489ac0e2b44",
   "metadata": {},
   "source": [
    "| Step               | Method                                | Purpose                      |\n",
    "| ------------------ | ------------------------------------- | ---------------------------- |\n",
    "| Missing Values     | Drop / Mean / Median Imputation       | Handle incomplete data       |\n",
    "| Outliers           | Z-score / IQR                         | Remove noise                 |\n",
    "| Encoding           | Label / One-Hot                       | Handle categorical variables |\n",
    "| Scaling            | Standard / Min-Max                    | Normalize numeric features   |\n",
    "| Discretization     | Binning                               | Improve interpretability     |\n",
    "| Imbalance Handling | SMOTE / Class weights                 | Balance dataset              |\n",
    "| Train-Test Split   | train\\_test\\_split(), TimeSeriesSplit | Evaluate generalization      |\n",
    "| Pipelines          | `Pipeline()`                          | Automate preprocessing       |\n"
   ]
  },
  {
   "cell_type": "markdown",
   "id": "67c55f52-405a-489d-92cb-8252ad59d43a",
   "metadata": {},
   "source": [
    "## 🔚 Final Notes\n",
    "Always perform preprocessing on training data only and apply the same transformations to the test set.\n",
    "\n",
    "Preprocessing choices should align with:\n",
    "\n",
    "- Type of data (numerical, categorical, textual, time-series)\n",
    "\n",
    "- The ML algorithm in use (e.g., tree models don't need scaling)\n",
    "\n",
    "- Store preprocessing steps using pipelines to avoid data leakage.\n",
    "\n"
   ]
  },
  {
   "cell_type": "code",
   "execution_count": null,
   "id": "ea7c455c-8957-40d1-8237-675dec344f84",
   "metadata": {},
   "outputs": [],
   "source": []
  }
 ],
 "metadata": {
  "kernelspec": {
   "display_name": "Python 3 (ipykernel)",
   "language": "python",
   "name": "python3"
  },
  "language_info": {
   "codemirror_mode": {
    "name": "ipython",
    "version": 3
   },
   "file_extension": ".py",
   "mimetype": "text/x-python",
   "name": "python",
   "nbconvert_exporter": "python",
   "pygments_lexer": "ipython3",
   "version": "3.13.1"
  }
 },
 "nbformat": 4,
 "nbformat_minor": 5
}
