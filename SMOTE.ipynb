{
 "cells": [
  {
   "cell_type": "markdown",
   "id": "9450e9cb-82a7-4666-9c13-df6b9e79fb52",
   "metadata": {},
   "source": [
    "# 📌 SMOTE (Synthetic Minority Over-sampling Technique) Analysis  \n",
    "\n",
    "When dealing with **imbalanced datasets** (e.g., fraud detection, churn prediction, rare disease classification), machine learning models often become biased towards the majority class.  \n",
    "\n",
    "👉 Example: If 95% of samples are \"Not Fraud\" and 5% are \"Fraud,\" the model may just predict \"Not Fraud\" all the time and still achieve 95% accuracy.  \n",
    "\n",
    "This is where **SMOTE** comes in.  \n",
    "\n",
    "---\n",
    "\n",
    "## 🔎 What is SMOTE?  \n",
    "\n",
    "**SMOTE (Synthetic Minority Over-sampling Technique)** generates new synthetic samples for the minority class instead of duplicating existing ones.  \n",
    "\n",
    "- ✅ Balances dataset  \n",
    "- ✅ Reduces overfitting from simple oversampling  \n",
    "- ✅ Improves model performance on minority class  \n",
    "\n",
    "---\n",
    "\n",
    "## ⚙️ How SMOTE Works  \n",
    "\n",
    "1. For each minority class sample, SMOTE:  \n",
    "   - Finds its *k-nearest neighbors* (default k=5).  \n",
    "   - Selects one neighbor randomly.  \n",
    "   - Generates a synthetic sample along the line between the two points.  \n",
    "\n",
    "2. This way, the decision boundary for minority class expands and becomes more generalizable.  \n",
    "\n",
    "---\n",
    "\n",
    "## 🧑‍💻 Hands-on Code Example  \n",
    "\n",
    "### Step 1: Import Libraries\n",
    "```python\n",
    "import pandas as pd\n",
    "from sklearn.datasets import make_classification\n",
    "from collections import Counter\n",
    "from imblearn.over_sampling import SMOTE\n",
    "import matplotlib.pyplot as plt\n"
   ]
  },
  {
   "cell_type": "code",
   "execution_count": 1,
   "id": "40a82736-da3c-4e2e-974a-c7032ba0c54b",
   "metadata": {},
   "outputs": [],
   "source": [
    "import pandas as pd\n",
    "from sklearn.datasets import make_classification\n",
    "from collections import Counter\n",
    "from imblearn.over_sampling import SMOTE\n",
    "import matplotlib.pyplot as plt"
   ]
  },
  {
   "cell_type": "markdown",
   "id": "3d0593c1-74c3-44bd-9ba3-13dfbea02915",
   "metadata": {},
   "source": [
    "### Step 2: Create an Imbalanced Dataset"
   ]
  },
  {
   "cell_type": "code",
   "execution_count": 2,
   "id": "d4bdad2a-0263-4641-bb7f-cbe55019a9ab",
   "metadata": {},
   "outputs": [
    {
     "name": "stdout",
     "output_type": "stream",
     "text": [
      "Original Dataset Shape: Counter({np.int64(0): 897, np.int64(1): 103})\n"
     ]
    }
   ],
   "source": [
    "X, y = make_classification(n_classes=2, class_sep=2,\n",
    "                           weights=[0.9, 0.1], # 90% majority, 10% minority\n",
    "                           n_informative=3, n_redundant=1, n_features=5,\n",
    "                           n_clusters_per_class=1, n_samples=1000, random_state=42)\n",
    "\n",
    "print(\"Original Dataset Shape:\", Counter(y))\n"
   ]
  },
  {
   "cell_type": "markdown",
   "id": "393679a2-8a4a-4052-98eb-ce82800be91e",
   "metadata": {},
   "source": [
    "### Step 3: Apply SMOTE"
   ]
  },
  {
   "cell_type": "code",
   "execution_count": 3,
   "id": "047e25d2-08b8-408b-a741-5df7e03e1939",
   "metadata": {},
   "outputs": [
    {
     "name": "stdout",
     "output_type": "stream",
     "text": [
      "Resampled Dataset Shape: Counter({np.int64(0): 897, np.int64(1): 897})\n"
     ]
    }
   ],
   "source": [
    "smote = SMOTE(random_state=42)\n",
    "X_res, y_res = smote.fit_resample(X, y)\n",
    "\n",
    "print(\"Resampled Dataset Shape:\", Counter(y_res))\n"
   ]
  },
  {
   "cell_type": "code",
   "execution_count": null,
   "id": "129c5569-ec25-44f8-9126-37238a067f51",
   "metadata": {},
   "outputs": [],
   "source": []
  }
 ],
 "metadata": {
  "kernelspec": {
   "display_name": "Python 3 (ipykernel)",
   "language": "python",
   "name": "python3"
  },
  "language_info": {
   "codemirror_mode": {
    "name": "ipython",
    "version": 3
   },
   "file_extension": ".py",
   "mimetype": "text/x-python",
   "name": "python",
   "nbconvert_exporter": "python",
   "pygments_lexer": "ipython3",
   "version": "3.13.1"
  }
 },
 "nbformat": 4,
 "nbformat_minor": 5
}
