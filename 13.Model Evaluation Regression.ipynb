{
 "cells": [
  {
   "cell_type": "markdown",
   "id": "6d6c56d0-a54c-426a-9e5c-29e9662ea3fa",
   "metadata": {},
   "source": [
    "# 📈 Regression Metrics in Machine Learning\n",
    "\n",
    "Regression models predict **continuous numerical values**. To evaluate how well these models perform, we use different metrics that measure the **difference between actual and predicted values**.\n",
    "\n",
    "---\n",
    "\n",
    "## 🎯 1. Mean Absolute Error (MAE)\n",
    "\n",
    "**Definition:**  \n",
    "The average of the absolute differences between predicted and actual values.\n",
    "\n",
    "**Formula:**\n"
   ]
  },
  {
   "cell_type": "markdown",
   "id": "0627b9c5-229d-4fd5-8b78-b9e8cc70c740",
   "metadata": {},
   "source": [
    "MAE = (1/n) * Σ |yᵢ - ŷᵢ|\n",
    "\n"
   ]
  },
  {
   "cell_type": "markdown",
   "id": "3eba6cf7-2bc4-405b-8d65-819602ab87bb",
   "metadata": {},
   "source": [
    "\n",
    "- `yᵢ` = actual value  \n",
    "- `ŷᵢ` = predicted value  \n",
    "- `n` = number of data points\n",
    "\n",
    "**Interpretation:**  \n",
    "- MAE gives equal weight to all errors.\n",
    "- Lower MAE = better performance.\n",
    "\n",
    "---\n",
    "\n",
    "## 🎯 2. Mean Squared Error (MSE)\n",
    "\n",
    "**Definition:**  \n",
    "The average of the squared differences between predicted and actual values.\n",
    "\n",
    "**Formula:**\n"
   ]
  },
  {
   "cell_type": "markdown",
   "id": "4b4c9e14-b731-4d19-b675-0668928629b8",
   "metadata": {},
   "source": [
    "MSE = (1/n) * Σ (yᵢ - ŷᵢ)²"
   ]
  },
  {
   "cell_type": "markdown",
   "id": "e9947318-5202-4f9e-b83c-fdb8877f97d7",
   "metadata": {},
   "source": [
    "\n",
    "**Interpretation:**  \n",
    "- Penalizes **larger errors** more than MAE due to squaring.\n",
    "- More sensitive to outliers.\n",
    "\n",
    "---\n",
    "\n",
    "## 🎯 3. Root Mean Squared Error (RMSE)\n",
    "\n",
    "**Definition:**  \n",
    "The square root of MSE. Brings the error back to the original unit.\n",
    "\n",
    "**Formula:**\n"
   ]
  },
  {
   "cell_type": "markdown",
   "id": "763f845a-49c9-4609-b32a-7a4a139a8c87",
   "metadata": {},
   "source": [
    "RMSE = √MSE = √[(1/n) * Σ (yᵢ - ŷᵢ)²]\n",
    "\n"
   ]
  },
  {
   "cell_type": "markdown",
   "id": "d7c5c676-e77b-4e36-a108-a0dfab1308e6",
   "metadata": {},
   "source": [
    "\n",
    "**Interpretation:**  \n",
    "- Same units as target variable.\n",
    "- Still penalizes large errors heavily.\n",
    "\n",
    "---\n",
    "\n",
    "## 🎯 4. R² Score (Coefficient of Determination)\n",
    "\n",
    "**Definition:**  \n",
    "Measures how well the regression model explains the variability of the outcome.\n",
    "\n",
    "**Formula:**\n"
   ]
  },
  {
   "cell_type": "markdown",
   "id": "e9ae484c-5290-4a75-afe7-7a5f539a5aca",
   "metadata": {},
   "source": [
    "R² = 1 - (SS_res / SS_tot)\n",
    "\n"
   ]
  },
  {
   "cell_type": "markdown",
   "id": "04441d6d-3455-4cfe-a8e2-6d120f10c643",
   "metadata": {},
   "source": [
    "\n",
    "Where:\n",
    "- `SS_res` = Σ (yᵢ - ŷᵢ)² (residual sum of squares)  \n",
    "- `SS_tot` = Σ (yᵢ - ȳ)² (total sum of squares)  \n",
    "- `ȳ` = mean of actual values\n",
    "\n",
    "**Interpretation:**\n",
    "- R² = 1: Perfect prediction  \n",
    "- R² = 0: Model predicts no better than mean  \n",
    "- R² < 0: Model is worse than using the mean\n",
    "\n",
    "---\n",
    "\n",
    "## 🐍 Python Example\n",
    "\n",
    "```python\n",
    "from sklearn.metrics import mean_absolute_error, mean_squared_error, r2_score\n",
    "import numpy as np\n",
    "\n",
    "# Assuming y_test and y_pred are defined\n",
    "mae = mean_absolute_error(y_test, y_pred)\n",
    "mse = mean_squared_error(y_test, y_pred)\n",
    "rmse = np.sqrt(mse)\n",
    "r2 = r2_score(y_test, y_pred)\n",
    "\n",
    "print(\"Mean Absolute Error (MAE):\", mae)\n",
    "print(\"Mean Squared Error (MSE):\", mse)\n",
    "print(\"Root Mean Squared Error (RMSE):\", rmse)\n",
    "print(\"R² Score:\", r2)\n"
   ]
  },
  {
   "cell_type": "markdown",
   "id": "e345a3e6-196e-450f-89ca-f0a6a51508ac",
   "metadata": {},
   "source": [
    "| Metric | Meaning             | Sensitive to Outliers? | Best Value |\n",
    "| ------ | ------------------- | ---------------------- | ---------- |\n",
    "| MAE    | Avg. absolute error | No                     | 0          |\n",
    "| MSE    | Avg. squared error  | Yes                    | 0          |\n",
    "| RMSE   | Root of MSE         | Yes                    | 0          |\n",
    "| R²     | Explained variance  | No                     | 1          |\n"
   ]
  },
  {
   "cell_type": "markdown",
   "id": "7941922f-fc23-4f85-b3e1-3612b15dd952",
   "metadata": {},
   "source": [
    "\n",
    "📌 Tip: Use R² along with RMSE/MAE to get both a normalized and an absolute sense of model performance."
   ]
  }
 ],
 "metadata": {
  "kernelspec": {
   "display_name": "Python 3 (ipykernel)",
   "language": "python",
   "name": "python3"
  },
  "language_info": {
   "codemirror_mode": {
    "name": "ipython",
    "version": 3
   },
   "file_extension": ".py",
   "mimetype": "text/x-python",
   "name": "python",
   "nbconvert_exporter": "python",
   "pygments_lexer": "ipython3",
   "version": "3.13.1"
  }
 },
 "nbformat": 4,
 "nbformat_minor": 5
}
